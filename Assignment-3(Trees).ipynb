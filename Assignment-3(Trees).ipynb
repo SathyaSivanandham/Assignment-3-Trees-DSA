{
 "cells": [
  {
   "cell_type": "markdown",
   "id": "529c351d",
   "metadata": {},
   "source": [
    "Q1. Implement Binary tree"
   ]
  },
  {
   "cell_type": "code",
   "execution_count": null,
   "id": "cb5a24a3",
   "metadata": {},
   "outputs": [],
   "source": [
    "class Node:\n",
    "    def __init__(self, data):\n",
    "        self.left = None\n",
    "        self.right = None\n",
    "        self.data = data\n",
    "\n",
    "    def insert(self, data):\n",
    "        if self.data:\n",
    "            if data < self.data:\n",
    "                if self.left is None:\n",
    "                    self.left = Node(data)\n",
    "                else: \n",
    "                    self.left.insert(data)\n",
    "            elif data > self.data: \n",
    "                if self.right is None:\n",
    "                    self.right = Node(data)\n",
    "                else:\n",
    "                    self.right.insert(data)\n",
    "        else:\n",
    "            self.data = data\n",
    "\n",
    "    def PrintTree(self):\n",
    "        if self.left:\n",
    "            self.left.PrintTree()\n",
    "        print( self.data),\n",
    "        if self.right: \n",
    "            self.right.PrintTree()\n",
    "\n",
    "root = Node(12)\n",
    "root.insert(6)\n",
    "root.insert(14)\n",
    "root.insert(3)\n",
    "root.PrintTree()"
   ]
  },
  {
   "cell_type": "markdown",
   "id": "b3bcf42a",
   "metadata": {},
   "source": [
    "Q2. Find height of a given tree"
   ]
  },
  {
   "cell_type": "code",
   "execution_count": 11,
   "id": "6f0f5f1a",
   "metadata": {},
   "outputs": [
    {
     "name": "stdout",
     "output_type": "stream",
     "text": [
      "Height of the binary tree is: 3\n"
     ]
    }
   ],
   "source": [
    "class TreeNode:\n",
    "    def __init__(self, val):\n",
    "        self.val = val\n",
    "        self.left = None\n",
    "        self.right = None\n",
    " \n",
    "    def height(root):\n",
    "        if root is None:\n",
    "            return 0 \n",
    "        leftAns = height(root.left)\n",
    "        rightAns = height(root.right)\n",
    " \n",
    "        return max(leftAns, rightAns) + 1\n",
    " \n",
    "root = TreeNode(1)\n",
    "root.left = TreeNode(2)\n",
    "root.right = TreeNode(3)\n",
    "root.left.left = TreeNode(4)\n",
    " \n",
    "print(\"Height of the binary tree is: \" + str(height(root)))"
   ]
  },
  {
   "cell_type": "markdown",
   "id": "9329460c",
   "metadata": {},
   "source": [
    "Q3. Perform Pre-order, Post-order, In-order traversal"
   ]
  },
  {
   "cell_type": "code",
   "execution_count": 2,
   "id": "3ae9b2ff",
   "metadata": {},
   "outputs": [
    {
     "name": "stdout",
     "output_type": "stream",
     "text": [
      "Inorder traversal \n",
      "4->2->5->1->3->\n",
      "Preorder traversal \n",
      "1->2->4->5->3->\n",
      "Postorder traversal \n",
      "4->5->2->3->1->"
     ]
    }
   ],
   "source": [
    "class Node:\n",
    "    def __init__(self, item):\n",
    "        self.left = None\n",
    "        self.right = None\n",
    "        self.val = item\n",
    "\n",
    "\n",
    "def inorder(root):\n",
    "\n",
    "    if root:\n",
    "        inorder(root.left)\n",
    "        print(str(root.val) + \"->\", end='')\n",
    "        inorder(root.right)\n",
    "\n",
    "\n",
    "def postorder(root):\n",
    "\n",
    "    if root:\n",
    "        postorder(root.left)\n",
    "        postorder(root.right)\n",
    "        print(str(root.val) + \"->\", end='')\n",
    "\n",
    "\n",
    "def preorder(root):\n",
    "\n",
    "    if root:\n",
    "        print(str(root.val) + \"->\", end='')\n",
    "        preorder(root.left)\n",
    "        preorder(root.right)\n",
    "\n",
    "\n",
    "root = Node(1)\n",
    "root.left = Node(2)\n",
    "root.right = Node(3)\n",
    "root.left.left = Node(4)\n",
    "root.left.right = Node(5)\n",
    "\n",
    "print(\"Inorder traversal \")\n",
    "inorder(root)\n",
    "\n",
    "print(\"\\nPreorder traversal \")\n",
    "preorder(root)\n",
    "\n",
    "print(\"\\nPostorder traversal \")\n",
    "postorder(root)"
   ]
  },
  {
   "cell_type": "markdown",
   "id": "6cdb1fad",
   "metadata": {},
   "source": [
    "Q4. Function to print all the leaves in a given binary tree"
   ]
  },
  {
   "cell_type": "code",
   "execution_count": 12,
   "id": "5ec59e44",
   "metadata": {},
   "outputs": [
    {
     "name": "stdout",
     "output_type": "stream",
     "text": [
      "9 6 5 10 "
     ]
    }
   ],
   "source": [
    "class newNode:\n",
    "     \n",
    "    def __init__(self, data):\n",
    "        self.data = data\n",
    "        self.left = None\n",
    "        self.right = None\n",
    " \n",
    "    def printLeafNodes(root):\n",
    "     \n",
    "        if root == None:\n",
    "            return\n",
    "        if (root.left == None and\n",
    "            root.right == None):\n",
    "            print(root.data, end = \" \")\n",
    "            return\n",
    "        if root.right:\n",
    "            printLeafNodes(root.right)\n",
    "        if root.left:\n",
    "            printLeafNodes(root.left)\n",
    " \n",
    "root = newNode(1)\n",
    "root.left = newNode(2)\n",
    "root.right = newNode(3)\n",
    "root.left.left = newNode(4)\n",
    "root.left.right = newNode(5)\n",
    "root.right.left = newNode(6)\n",
    "root.right.right = newNode(7)\n",
    "root.left.left.left = newNode(8)\n",
    "root.right.right.left = newNode(9)\n",
    "root.left.left.left.right = newNode(10)\n",
    " \n",
    "printLeafNodes(root)"
   ]
  },
  {
   "cell_type": "markdown",
   "id": "d25852e8",
   "metadata": {},
   "source": [
    "Q5. Implement BFS (Breath First Search) and DFS (Depth First Search)"
   ]
  },
  {
   "cell_type": "code",
   "execution_count": 13,
   "id": "62cb8034",
   "metadata": {},
   "outputs": [
    {
     "name": "stdout",
     "output_type": "stream",
     "text": [
      "BFS Result: [6, 1, 9, 4, 21, 3, 5]\n",
      "DFS Result: [6, 1, 4, 3, 5, 9, 21]\n"
     ]
    }
   ],
   "source": [
    "from collections import deque\n",
    "\n",
    "\n",
    "class Node:\n",
    "    def __init__(self, value):\n",
    "        self.value = value\n",
    "        self.left = None\n",
    "        self.right = None\n",
    "\n",
    "\n",
    "class BinaryTree:\n",
    "    def __init__(self):\n",
    "        self.root = None\n",
    "\n",
    "    def insert(self, value):\n",
    "        if self.root is None:\n",
    "            self.root = Node(value)\n",
    "        else:\n",
    "            self._insert_recursive(self.root, value)\n",
    "\n",
    "    def _insert_recursive(self, node, value):\n",
    "        if value < node.value:\n",
    "            if node.left is None:\n",
    "                node.left = Node(value)\n",
    "            else:\n",
    "                self._insert_recursive(node.left, value)\n",
    "        else:\n",
    "            if node.right is None:\n",
    "                node.right = Node(value)\n",
    "            else:\n",
    "                self._insert_recursive(node.right, value)\n",
    "\n",
    "    def breadth_first_search(self):\n",
    "        result = []\n",
    "        if self.root is None:\n",
    "            return result\n",
    "\n",
    "        queue = deque()\n",
    "        queue.append(self.root)\n",
    "\n",
    "        while queue:\n",
    "            node = queue.popleft()\n",
    "            result.append(node.value)\n",
    "\n",
    "            if node.left:\n",
    "                queue.append(node.left)\n",
    "            if node.right:\n",
    "                queue.append(node.right)\n",
    "\n",
    "        return result\n",
    "\n",
    "    def depth_first_search(self):\n",
    "        result = []\n",
    "        self._depth_first_search_recursive(self.root, result)\n",
    "        return result\n",
    "\n",
    "    def _depth_first_search_recursive(self, node, result):\n",
    "        if node is None:\n",
    "            return\n",
    "\n",
    "        result.append(node.value)\n",
    "\n",
    "        self._depth_first_search_recursive(node.left, result)\n",
    "        self._depth_first_search_recursive(node.right, result)\n",
    "\n",
    "\n",
    "tree = BinaryTree()\n",
    "\n",
    "tree.insert(6)\n",
    "tree.insert(1)\n",
    "tree.insert(9)\n",
    "tree.insert(21)\n",
    "tree.insert(4)\n",
    "tree.insert(5)\n",
    "tree.insert(3)\n",
    "\n",
    "bfs_result = tree.breadth_first_search()\n",
    "print(\"BFS Result:\", bfs_result)\n",
    "\n",
    "dfs_result = tree.depth_first_search()\n",
    "print(\"DFS Result:\", dfs_result)"
   ]
  },
  {
   "cell_type": "markdown",
   "id": "43aba53d",
   "metadata": {},
   "source": [
    "Q6. Find sum of all left leaves in a given Binary Tree"
   ]
  },
  {
   "cell_type": "code",
   "execution_count": 6,
   "id": "f1305825",
   "metadata": {},
   "outputs": [
    {
     "name": "stdout",
     "output_type": "stream",
     "text": [
      "Sum of left leaves is 78\n"
     ]
    }
   ],
   "source": [
    "class Node:\n",
    "    def __init__(self, key):\n",
    "        self.key = key\n",
    "        self.left = None\n",
    "        self.right = None\n",
    "\n",
    "def isLeaf(node):\n",
    "    if node is None:\n",
    "        return False\n",
    "    if node.left is None and node.right is None:\n",
    "        return True\n",
    "    return False\n",
    "\n",
    "def leftLeavesSum(root):\n",
    "    res = 0\n",
    "    if root is not None:\n",
    "        if isLeaf(root.left):\n",
    "            res += root.left.key\n",
    "        else:\n",
    "            res += leftLeavesSum(root.left)\n",
    "        res += leftLeavesSum(root.right)\n",
    "    return res\n",
    "\n",
    "root = Node(20)\n",
    "root.left = Node(9)\n",
    "root.right = Node(49)\n",
    "root.right.left = Node(23)\n",
    "root.right.right = Node(52)\n",
    "root.right.right.left = Node(50)\n",
    "root.left.left = Node(5)\n",
    "root.left.right = Node(12)\n",
    "root.left.right.right = Node(12)\n",
    "print (\"Sum of left leaves is\", leftLeavesSum(root))"
   ]
  },
  {
   "cell_type": "markdown",
   "id": "6f77085a",
   "metadata": {},
   "source": [
    "Q7. Find sum of all nodes of the given perfect binary tree"
   ]
  },
  {
   "cell_type": "code",
   "execution_count": 7,
   "id": "c6dbf8e0",
   "metadata": {},
   "outputs": [
    {
     "name": "stdout",
     "output_type": "stream",
     "text": [
      "Sum of all the nodes\n",
      "30\n"
     ]
    }
   ],
   "source": [
    "def SumNodes(l):\n",
    "    leafNodeCount = pow(2, l - 1)\n",
    "    vec = [[] for i in range(l)]\n",
    "    for i in range(1, leafNodeCount + 1):\n",
    "        vec[l - 1].append(i)\n",
    "    for i in range(l - 2, -1, -1):\n",
    "        k = 0\n",
    "        while (k < len(vec[i + 1]) - 1):\n",
    "            vec[i].append(vec[i + 1][k] +\n",
    "                        vec[i + 1][k + 1])\n",
    "            k += 2\n",
    "    Sum = 0\n",
    "    for i in range(l):\n",
    "        for j in range(len(vec[i])):\n",
    "            Sum += vec[i][j]\n",
    "    return Sum\n",
    "\n",
    "l = 3\n",
    "print(\"Sum of all the nodes\")\n",
    "print(SumNodes(l))"
   ]
  },
  {
   "cell_type": "markdown",
   "id": "d4aa287b",
   "metadata": {},
   "source": [
    "Q8. Count subtress that sum up to a given value x in a binary tree"
   ]
  },
  {
   "cell_type": "code",
   "execution_count": 8,
   "id": "1a777d34",
   "metadata": {},
   "outputs": [
    {
     "name": "stdout",
     "output_type": "stream",
     "text": [
      "Count = 2\n"
     ]
    }
   ],
   "source": [
    "class getNode:\n",
    "    def __init__(self, data):\n",
    "        self.data = data\n",
    "        self.left = self.right = None\n",
    "\n",
    "def countSubtreesWithSumX(root, count, x):\n",
    "    if (not root):\n",
    "        return 0\n",
    "    ls = countSubtreesWithSumX(root.left, count, x)\n",
    "    rs = countSubtreesWithSumX(root.right, count, x)\n",
    "    Sum = ls + rs + root.data\n",
    "    if (Sum == x):\n",
    "        count[0] += 1\n",
    "    return Sum\n",
    "\n",
    "def countSubtreesWithSumXUtil(root, x):\n",
    "    if (not root):\n",
    "        return 0\n",
    "    count = [0]\n",
    "    ls = countSubtreesWithSumX(root.left, count, x)\n",
    "    rs = countSubtreesWithSumX(root.right, count, x)\n",
    "    if ((ls + rs + root.data) == x):\n",
    "        count[0] += 1\n",
    "    return count[0]\n",
    "\n",
    "\n",
    "root = getNode(5)\n",
    "root.left = getNode(-10)\n",
    "root.right = getNode(3)\n",
    "root.left.left = getNode(9)\n",
    "root.left.right = getNode(8)\n",
    "root.right.left = getNode(-4)\n",
    "root.right.right = getNode(7)\n",
    "x = 7\n",
    "print(\"Count =\", countSubtreesWithSumXUtil(root, x))"
   ]
  },
  {
   "cell_type": "markdown",
   "id": "b0a8860b",
   "metadata": {},
   "source": [
    "Q9. Find maximum level sum in Binary Tree"
   ]
  },
  {
   "cell_type": "code",
   "execution_count": 9,
   "id": "1fb4e3bb",
   "metadata": {},
   "outputs": [
    {
     "name": "stdout",
     "output_type": "stream",
     "text": [
      "Maximum level sum is 17\n"
     ]
    }
   ],
   "source": [
    "from collections import deque\n",
    "\n",
    "class Node:\n",
    "\n",
    "    def __init__(self, key):\n",
    "        self.data = key\n",
    "        self.left = None\n",
    "        self.right = None\n",
    "\n",
    "def maxLevelSum(root):\n",
    "    if (root == None):\n",
    "        return 0\n",
    "    result = root.data\n",
    "    q = deque()\n",
    "    q.append(root)\n",
    "    while (len(q) > 0):\n",
    "        count = len(q)\n",
    "        sum = 0\n",
    "        while (count > 0):\n",
    "            temp = q.popleft()\n",
    "            sum = sum + temp.data\n",
    "            if (temp.left != None):\n",
    "                q.append(temp.left)\n",
    "            if (temp.right != None):\n",
    "                q.append(temp.right)\n",
    "            count -= 1\n",
    "        result = max(sum, result)\n",
    "\n",
    "    return result\n",
    "\n",
    "root = Node(1)\n",
    "root.left = Node(2)\n",
    "root.right = Node(3)\n",
    "root.left.left = Node(4)\n",
    "root.left.right = Node(5)\n",
    "root.right.right = Node(8)\n",
    "root.right.right.left = Node(6)\n",
    "root.right.right.right = Node(7)\n",
    "print(\"Maximum level sum is\", maxLevelSum(root))"
   ]
  },
  {
   "cell_type": "markdown",
   "id": "0344a612",
   "metadata": {},
   "source": [
    "Q10. Print the nodes at odd levels of a tree"
   ]
  },
  {
   "cell_type": "code",
   "execution_count": 10,
   "id": "dc72b119",
   "metadata": {},
   "outputs": [
    {
     "name": "stdout",
     "output_type": "stream",
     "text": [
      "1 4 5 6 7 "
     ]
    }
   ],
   "source": [
    "class Node:\n",
    "    def __init__(self, data):\n",
    "        self.data = data\n",
    "        self.left = None\n",
    "        self.right = None\n",
    "\n",
    "\n",
    "def PrintOddLevel(root, level):\n",
    "    if root == None:\n",
    "        return\n",
    "    \n",
    "    if level%2:\n",
    "        print(root.data, end = \" \")\n",
    "    \n",
    "    PrintOddLevel(root.left, level+1)\n",
    "    \n",
    "    PrintOddLevel(root.right, level+1)\n",
    "\n",
    "\n",
    "root = Node(1)\n",
    "root.left = Node(2)\n",
    "root.right = Node(3)\n",
    "root.left.left = Node(4)\n",
    "root.left.right = Node(5)\n",
    "root.right.left = Node(6)\n",
    "root.right.right = Node(7)\n",
    "PrintOddLevel(root, 1)"
   ]
  },
  {
   "cell_type": "code",
   "execution_count": null,
   "id": "eac9a198",
   "metadata": {},
   "outputs": [],
   "source": []
  }
 ],
 "metadata": {
  "kernelspec": {
   "display_name": "Python 3 (ipykernel)",
   "language": "python",
   "name": "python3"
  },
  "language_info": {
   "codemirror_mode": {
    "name": "ipython",
    "version": 3
   },
   "file_extension": ".py",
   "mimetype": "text/x-python",
   "name": "python",
   "nbconvert_exporter": "python",
   "pygments_lexer": "ipython3",
   "version": "3.11.0"
  }
 },
 "nbformat": 4,
 "nbformat_minor": 5
}
